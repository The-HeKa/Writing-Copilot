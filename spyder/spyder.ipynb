{
 "cells": [
  {
   "cell_type": "code",
   "execution_count": 1,
   "metadata": {},
   "outputs": [],
   "source": [
    "from bs4 import BeautifulSoup\n",
    "from tqdm import tqdm\n",
    "import requests\n",
    "import json\n",
    "import re\n",
    "import time\n",
    "import os\n",
    "import re\n",
    "\n",
    "domain = 'https://www.8book.com'"
   ]
  },
  {
   "cell_type": "code",
   "execution_count": 2,
   "metadata": {},
   "outputs": [],
   "source": [
    "# get_book_data(url)\n",
    "# Inputs: book's url <str>\n",
    "# Ouputs: chapters list <list>, book's name <str>, book's type <str>, book's chapters' count <int>\n",
    "\n",
    "def get_book_data(url):\n",
    "    chapter_list = []\n",
    "    name = ''\n",
    "    type = ''\n",
    "    count = 0\n",
    "\n",
    "    html = requests.get(url)\n",
    "    html.encoding = 'utf8'\n",
    "    soup = BeautifulSoup(html.text, 'html.parser')\n",
    "\n",
    "    for i in soup.find_all('meta'):\n",
    "        if i.get('name') == 'cat': \n",
    "            type = i.get('content')\n",
    "        elif i.get('name') == 'name': \n",
    "            name = i.get('content')\n",
    "        elif i.get('name') == 'count':\n",
    "            count = int(re.sub(r'\\D','',i.get('content')))\n",
    "\n",
    "    chapters = soup.find_all(id='chapters')[0]\n",
    "    for i in chapters.findAll('a'):\n",
    "        chapter_list.append(domain+i.get('href'))\n",
    "    \n",
    "    return chapter_list, name, type, count\n",
    "\n",
    "# get_book_data('https://www.8book.com/novelbooks/104934')[0][1]"
   ]
  },
  {
   "cell_type": "code",
   "execution_count": 3,
   "metadata": {},
   "outputs": [],
   "source": [
    "# get_article(url_)\n",
    "# Inputs: chapter's url <str>\n",
    "# Ouputs: article text <list>\n",
    "\n",
    "def get_article(url_):\n",
    "    # url_ = 'https://www.8book.com/read/104934/?20740_2'\n",
    "    url = f'http://localhost:8050/render.html?url={url_}&timeout=10&wait=0.5'\n",
    "    html = requests.get(url)\n",
    "    html.encoding = 'utf8'\n",
    "    soup = BeautifulSoup(html.text, 'html.parser')\n",
    "\n",
    "    texts = ''\n",
    "    for i in soup.find_all(name='div',attrs={'class':'text'}):\n",
    "        texts += i.text\n",
    "    texts = texts.replace('\\u3000','').replace('\\n','')\n",
    "    texts = re.sub('[a-zA-Z0-9]','',texts)\n",
    "    return texts\n",
    "\n",
    "# get_article('https://www.8book.com/read/104934/?20740_2')"
   ]
  },
  {
   "cell_type": "code",
   "execution_count": 4,
   "metadata": {},
   "outputs": [],
   "source": [
    "book_list = []\n",
    "\n",
    "a = 1 \n",
    "while True:\n",
    "\n",
    "    url = f'https://www.8book.com/booklists/11/{a}.html'\n",
    "    html = requests.get(url)\n",
    "    html.encoding = 'utf8'\n",
    "\n",
    "    try:\n",
    "        html = html.text.split('<!-- all list -->')[1]\n",
    "        soup = BeautifulSoup(html, 'html.parser')\n",
    "\n",
    "        for i in list(set([i.get('href') for i in soup.find_all('a') if i.get('class') != None])):\n",
    "            book_list.append(domain+i)\n",
    "\n",
    "        a += 1\n",
    "        time.sleep(0.2)\n",
    "    except:\n",
    "        break"
   ]
  },
  {
   "cell_type": "code",
   "execution_count": 5,
   "metadata": {},
   "outputs": [
    {
     "name": "stderr",
     "output_type": "stream",
     "text": [
      "  0%|          | 1/432 [01:39<11:56:57, 99.81s/it]"
     ]
    }
   ],
   "source": [
    "# utils\n",
    "\n",
    "path = 'atricles/literature'\n",
    "if not os.path.isdir(path):\n",
    "    os.makedirs(path)\n",
    "\n",
    "for book in tqdm(book_list):\n",
    "    # get book's info\n",
    "    id = book.split('/')[-1]\n",
    "    url = 'https://www.8book.com/novelbooks/'+id\n",
    "    cp_list, book_name, book_type, book_count = get_book_data(url) \n",
    "    info = {'name':book_name,'type':book_type,'count':book_count}\n",
    "\n",
    "    # if book not exsists, creat file and update the info.\n",
    "    if  os.path.isdir(path+'/'+id):\n",
    "        pass \n",
    "    else:\n",
    "        json_ = {'info':info,'chapters':{}}\n",
    "        with open(path+'/'+id+'.json', \"w\") as f:\n",
    "            json.dump(json_, f)\n",
    "\n",
    "    # check if chapter is null, if it's null, update it.\n",
    "    with open(path+'/'+id+'.json', \"r\") as f:\n",
    "        json_ = json.load(f)\n",
    "    charpter = json_['chapters']\n",
    "    for i in range(1,len(cp_list)+1):\n",
    "        if str(i) in list(charpter.keys()):\n",
    "            pass\n",
    "        else:\n",
    "            try:\n",
    "                charpter[i] = get_article(cp_list[i-1])\n",
    "            except:\n",
    "                pass\n",
    "        json_['chapters'] = charpter\n",
    "    \n",
    "    # save to the file\n",
    "    with open(path+'/'+id+'.json', \"w\") as f:\n",
    "        json.dump(json_, f)\n",
    "    \n"
   ]
  },
  {
   "cell_type": "code",
   "execution_count": null,
   "metadata": {},
   "outputs": [],
   "source": [
    "# check state\n",
    "with open(path+'/'+id+'.json', \"r\") as f:\n",
    "    json_ = json.load(f)\n",
    "print((json_))"
   ]
  }
 ],
 "metadata": {
  "kernelspec": {
   "display_name": "sf_wtcpt",
   "language": "python",
   "name": "python3"
  },
  "language_info": {
   "codemirror_mode": {
    "name": "ipython",
    "version": 3
   },
   "file_extension": ".py",
   "mimetype": "text/x-python",
   "name": "python",
   "nbconvert_exporter": "python",
   "pygments_lexer": "ipython3",
   "version": "3.10.8"
  },
  "orig_nbformat": 4,
  "vscode": {
   "interpreter": {
    "hash": "2cedff552f2be37a54b7f2862e93fceab566f7820ddd4edf6e7a5767e1b7a864"
   }
  }
 },
 "nbformat": 4,
 "nbformat_minor": 2
}
