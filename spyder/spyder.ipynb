{
 "cells": [
  {
   "cell_type": "code",
   "execution_count": 70,
   "metadata": {},
   "outputs": [],
   "source": [
    "import requests\n",
    "from bs4 import BeautifulSoup\n",
    "import re\n",
    "import time\n",
    "\n",
    "domain = 'https://www.8book.com'"
   ]
  },
  {
   "cell_type": "code",
   "execution_count": 58,
   "metadata": {},
   "outputs": [],
   "source": [
    "book_list = []\n",
    "\n",
    "a = 1 \n",
    "while True:\n",
    "\n",
    "    url = f'https://www.8book.com/booklists/11/{a}.html'\n",
    "    html = requests.get(url)\n",
    "    html.encoding = 'utf8'\n",
    "\n",
    "    try:\n",
    "        html = html.text.split('<!-- all list -->')[1]\n",
    "        soup = BeautifulSoup(html, 'html.parser')\n",
    "\n",
    "        for i in list(set([i.get('href') for i in soup.find_all('a') if i.get('class') != None])):\n",
    "            book_list.append(domain+i)\n",
    "\n",
    "        a += 1\n",
    "        time.sleep(0.2)\n",
    "    except:\n",
    "        break\n",
    "\n",
    "book_list[200]"
   ]
  },
  {
   "cell_type": "code",
   "execution_count": 85,
   "metadata": {},
   "outputs": [
    {
     "data": {
      "text/plain": [
       "'品花寶鑒'"
      ]
     },
     "execution_count": 85,
     "metadata": {},
     "output_type": "execute_result"
    }
   ],
   "source": [
    "# Inputs: book's url <str>\n",
    "# Ouputs: chapters list <list>, book's name <str>, book's type <str>, book's chapters' count <int>\n",
    "\n",
    "def get_book_data(url):\n",
    "    chapter_list = []\n",
    "    name = ''\n",
    "    type = ''\n",
    "    count = 0\n",
    "\n",
    "    html = requests.get(url)\n",
    "    html.encoding = 'utf8'\n",
    "    soup = BeautifulSoup(html.text, 'html.parser')\n",
    "\n",
    "    for i in soup.find_all('meta'):\n",
    "        if i.get('name') == 'cat': \n",
    "            type = i.get('content')\n",
    "        elif i.get('name') == 'name': \n",
    "            name = i.get('content')\n",
    "        elif i.get('name') == 'count':\n",
    "            count = int(re.sub(r'\\D','',i.get('content')))\n",
    "\n",
    "    chapters = soup.find_all(id='chapters')[0]\n",
    "    for i in chapters.findAll('a'):\n",
    "        chapter_list.append(domain+i.get('href'))\n",
    "    \n",
    "    return chapter_list, name, type, count\n",
    "\n",
    "get_book_data('https://www.8book.com/novelbooks/104934')[1]"
   ]
  }
 ],
 "metadata": {
  "kernelspec": {
   "display_name": "sf_wtcpt",
   "language": "python",
   "name": "python3"
  },
  "language_info": {
   "codemirror_mode": {
    "name": "ipython",
    "version": 3
   },
   "file_extension": ".py",
   "mimetype": "text/x-python",
   "name": "python",
   "nbconvert_exporter": "python",
   "pygments_lexer": "ipython3",
   "version": "3.10.8"
  },
  "orig_nbformat": 4,
  "vscode": {
   "interpreter": {
    "hash": "2cedff552f2be37a54b7f2862e93fceab566f7820ddd4edf6e7a5767e1b7a864"
   }
  }
 },
 "nbformat": 4,
 "nbformat_minor": 2
}
