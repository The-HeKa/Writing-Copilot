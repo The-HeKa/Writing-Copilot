{
 "cells": [
  {
   "cell_type": "code",
   "execution_count": 1,
   "metadata": {},
   "outputs": [
    {
     "name": "stderr",
     "output_type": "stream",
     "text": [
      "2023-01-24 11:12:52.812289: I tensorflow/stream_executor/platform/default/dso_loader.cc:49] Successfully opened dynamic library libcudart.so.10.1\n",
      "/home/yuan/anaconda3/envs/wtcpt/lib/python3.8/site-packages/tensorflow/python/keras/layers/legacy_rnn/rnn_cell_impl.py:903: UserWarning: `tf.nn.rnn_cell.LSTMCell` is deprecated and will be removed in a future version. This class is equivalent as `tf.keras.layers.LSTMCell`, and will be replaced by that in Tensorflow 2.0.\n",
      "  warnings.warn(\"`tf.nn.rnn_cell.LSTMCell` is deprecated and will be \"\n",
      "/home/yuan/anaconda3/envs/wtcpt/lib/python3.8/site-packages/tensorflow/python/keras/engine/base_layer_v1.py:1727: UserWarning: `layer.add_variable` is deprecated and will be removed in a future version. Please use `layer.add_weight` method instead.\n",
      "  warnings.warn('`layer.add_variable` is deprecated and '\n",
      "2023-01-24 11:12:54.891119: I tensorflow/compiler/jit/xla_cpu_device.cc:41] Not creating XLA devices, tf_xla_enable_xla_devices not set\n",
      "2023-01-24 11:12:54.891908: I tensorflow/stream_executor/platform/default/dso_loader.cc:49] Successfully opened dynamic library libcuda.so.1\n",
      "2023-01-24 11:12:54.990673: E tensorflow/stream_executor/cuda/cuda_driver.cc:328] failed call to cuInit: CUDA_ERROR_NO_DEVICE: no CUDA-capable device is detected\n",
      "2023-01-24 11:12:54.990726: I tensorflow/stream_executor/cuda/cuda_diagnostics.cc:156] kernel driver does not appear to be running on this host (MSI): /proc/driver/nvidia/version does not exist\n",
      "2023-01-24 11:12:56.080420: I tensorflow/core/platform/cpu_feature_guard.cc:142] This TensorFlow binary is optimized with oneAPI Deep Neural Network Library (oneDNN) to use the following CPU instructions in performance-critical operations:  SSE4.1 SSE4.2 AVX AVX2 FMA\n",
      "To enable them in other operations, rebuild TensorFlow with the appropriate compiler flags.\n",
      "2023-01-24 11:12:56.084407: I tensorflow/compiler/jit/xla_gpu_device.cc:99] Not creating XLA devices, tf_xla_enable_xla_devices not set\n",
      "2023-01-24 11:12:56.109895: I tensorflow/compiler/mlir/mlir_graph_optimization_pass.cc:196] None of the MLIR optimization passes are enabled (registered 0 passes)\n",
      "2023-01-24 11:12:56.186402: I tensorflow/core/platform/profile_utils/cpu_utils.cc:112] CPU Frequency: 2688000000 Hz\n",
      "2023-01-24 11:13:01.455317: I tensorflow/compiler/jit/xla_gpu_device.cc:99] Not creating XLA devices, tf_xla_enable_xla_devices not set\n"
     ]
    }
   ],
   "source": [
    "from itertools import product\n",
    "from tqdm import tqdm\n",
    "import csv\n",
    "from data_generation import word, chenyu\n",
    "import opencc\n",
    "import os\n"
   ]
  },
  {
   "attachments": {},
   "cell_type": "markdown",
   "metadata": {},
   "source": [
    "Word utils"
   ]
  },
  {
   "cell_type": "code",
   "execution_count": 15,
   "metadata": {},
   "outputs": [],
   "source": [
    "sents_file = 'sents.csv'\n",
    "sents_ = []\n",
    "with open(sents_file,'r') as f:\n",
    "    sents_ = [i for i in csv.reader(f)][1:]\n",
    "\n",
    "sents = sents_[:200000]"
   ]
  },
  {
   "cell_type": "code",
   "execution_count": null,
   "metadata": {},
   "outputs": [],
   "source": [
    "def get_len(a):\n",
    "    return(len(a))\n",
    "\n",
    "def word_data(sents:list, len:list, p:list, pos_tag:str):\n",
    "    file_name = 'word_'+str(get_len(sents))\n",
    "    if not os.path.isdir(file_name):\n",
    "        os.mkdir(file_name)\n",
    "\n",
    "    sents_ = []\n",
    "    mask = []\n",
    "    label = []\n",
    "\n",
    "    for sent in tqdm(sents):\n",
    "        try:\n",
    "            sent = [sent[:max(len)]]\n",
    "            a, b, c = word(sent, pos_tag, p)\n",
    "            label.append([a,b])\n",
    "            mask += c\n",
    "            del a\n",
    "            del b\n",
    "            del c\n",
    "        except:\n",
    "            pass\n",
    "    \n",
    "    # save dict\n",
    "    label_dict = {}\n",
    "    for r in range(get_len(p)):\n",
    "        for y in len:\n",
    "            label_dict['label_r_p'.replace('r',str(p[r])).replace('p',str(y))] = []\n",
    "\n",
    "    for i in range(get_len(sents)):\n",
    "        for r in range(get_len(p)):\n",
    "            for y in len:\n",
    "                try:\n",
    "                    label_b = label[i][1][r][:y]\n",
    "                    label_b = list(label_b)\n",
    "                    while get_len(label_b) < y:\n",
    "                        label_b += '0'\n",
    "                    label_b = ''.join(label_b)\n",
    "                    if '1' in label_b:\n",
    "                        label_dict['label_r_p'.replace('r',str(p[r])).replace('p',str(y))].append([label[i][0][r][:y],label_b])\n",
    "                except:\n",
    "                    pass\n",
    "                    # print('error')\n",
    "                # print(label_dict['label_r_p'.replace('r',str(p[r])).replace('p',str(y))])\n",
    "\n",
    "    for i in label_dict.keys():\n",
    "        with open(file_name+'/'+i+'_'+pos_tag+'.csv',mode='w') as f:\n",
    "            wt = csv.writer(f)\n",
    "            for r in label_dict[i]:\n",
    "                wt.writerow([r[0]]+list(r[1]))\n",
    "    \n",
    "    # save mask\n",
    "    for k in range(get_len(mask)):\n",
    "        for i in len:\n",
    "            with open(file_name+'/'+'mask_'+str(i)+'.csv',mode='a') as f:\n",
    "                wt = csv.writer(f)\n",
    "                if 'MASK' in mask[k][0][:i]:\n",
    "                    wt.writerow([mask[k][0][:i],mask[k][1][:i]])\n",
    "\n",
    "word_data(['傅达仁今将运行安乐死，突然爆出自己20年前遭纬来体育台封杀，他不懂自己哪里得罪到电视台。'], [64,32], [0.5,0.8], 'D')"
   ]
  },
  {
   "cell_type": "code",
   "execution_count": null,
   "metadata": {},
   "outputs": [],
   "source": [
    "lengths = [96,72,64,32,16]\n",
    "ps = [0.8,0.5,0.2]\n",
    "tags = ['A','D','P','Nf','Cbb']\n",
    "\n",
    "for i in tags:\n",
    "    word_data(sents,lengths,ps,i)"
   ]
  },
  {
   "attachments": {},
   "cell_type": "markdown",
   "metadata": {},
   "source": [
    "Chenyu utils"
   ]
  },
  {
   "cell_type": "code",
   "execution_count": 2,
   "metadata": {},
   "outputs": [],
   "source": [
    "chenyu_file = 'chenyu.csv'\n",
    "chenyus = []\n",
    "sents_ = []\n",
    "\n",
    "with open(chenyu_file,'r') as f:\n",
    "    x = csv.reader(f)\n",
    "    chenyus = [i[0] for i in x][1:]\n",
    "\n",
    "with open(chenyu_file,'r') as f:\n",
    "    x = csv.reader(f)\n",
    "    sents_ = [i[1] for i in x][1:]\n",
    "\n",
    "sents = sents_"
   ]
  },
  {
   "cell_type": "code",
   "execution_count": 6,
   "metadata": {},
   "outputs": [
    {
     "name": "stderr",
     "output_type": "stream",
     "text": [
      "100%|██████████| 1/1 [00:00<00:00, 2344.50it/s]\n"
     ]
    }
   ],
   "source": [
    "def get_len(a):\n",
    "    return(len(a))\n",
    "\n",
    "def chenyu_data(sents:list, chenyus:list, len:list, p_:list):\n",
    "    file_name = 'chenyu_'+str(get_len(sents))\n",
    "    if not os.path.isdir(file_name):\n",
    "        os.mkdir(file_name)\n",
    "\n",
    "    sents_ = []\n",
    "    mask = []\n",
    "    label = []\n",
    "\n",
    "    for p in p_:\n",
    "\n",
    "        for sent in tqdm(range(get_len(sents))):\n",
    "            try:\n",
    "                chenyu_ = chenyus[sent]\n",
    "                sent = sents[sent][:max(len)]\n",
    "                a, b= chenyu(sent, chenyu_, p)\n",
    "                label.append(b)\n",
    "                mask += [a]\n",
    "                del a\n",
    "                del b\n",
    "            except:\n",
    "                pass\n",
    "\n",
    "    # save dict\n",
    "    label_dict = {}\n",
    "    for y in len:\n",
    "        label_dict['label_r_p'.replace('r',str(p)).replace('p',str(y))] = []\n",
    "\n",
    "        for x in range(get_len(label)):\n",
    "            label[x][1] = list(label[x][1])[:max(len)]\n",
    "            while get_len(label[x][1]) < y:\n",
    "                label[x][1] += '0'\n",
    "            label[x][1] = ''.join(label[x][1][:y])\n",
    "\n",
    "            label_dict['label_r_p'.replace('r',str(p)).replace('p',str(y))].append(label[x])\n",
    "        \n",
    "        dict_to_save = 'label_r_p'.replace('r',str(p)).replace('p',str(y))\n",
    "        with open(file_name+'/'+dict_to_save+'.csv',mode='a') as f:\n",
    "            wt = csv.writer(f)\n",
    "            for r in label_dict[dict_to_save]:\n",
    "                wt.writerow([r[0]]+list(r[1]))\n",
    "    \n",
    "    # save mask\n",
    "    for k in range(get_len(mask)):\n",
    "        for i in len:\n",
    "            with open(file_name+'/'+'mask_'+str(i)+'.csv',mode='a') as f:\n",
    "                wt = csv.writer(f)\n",
    "                count = 0\n",
    "                for t in mask[k][0]:\n",
    "                    if t == 'M':count+=1\n",
    "                if count <=1 and get_len(mask[k][0]) <= i and get_len(mask[k][1]) <= i:\n",
    "                    wt.writerow([mask[k][0],mask[k][1]])\n",
    "\n",
    "chenyu_data(['细致地挨门逐户去调查访问。'], ['挨门逐户'], [64,32], [0.8])"
   ]
  },
  {
   "cell_type": "code",
   "execution_count": 4,
   "metadata": {},
   "outputs": [
    {
     "name": "stderr",
     "output_type": "stream",
     "text": [
      "100%|██████████| 51657/51657 [00:07<00:00, 7271.50it/s]\n",
      "100%|██████████| 51657/51657 [00:07<00:00, 7273.85it/s]\n",
      "100%|██████████| 51657/51657 [00:06<00:00, 7577.66it/s]\n"
     ]
    }
   ],
   "source": [
    "lengths = [96,72,64,32,16]\n",
    "ps = [0.8,0.5,0.2]\n",
    "\n",
    "for i in ps:\n",
    "    chenyu_data(sents, chenyus,lengths,[i])\n",
    "\n",
    "    "
   ]
  },
  {
   "cell_type": "code",
   "execution_count": null,
   "metadata": {},
   "outputs": [],
   "source": [
    "'''\n",
    "不太政治正確的例句:\n",
    "    干革命不只是MASK重要的是为了争得全体劳苦大众的解放\n",
    "    李登辉的险恶用心现在已经暴露无遗了\n",
    "    人民安居乐业，这就是我亲爱的祖国\n",
    "    新中国成立后，中国人民安居乐业，过上了好日子\n",
    "    中国人民万众一心打败了美帝国主义。\n",
    "'''"
   ]
  }
 ],
 "metadata": {
  "kernelspec": {
   "display_name": "wtcpt",
   "language": "python",
   "name": "python3"
  },
  "language_info": {
   "codemirror_mode": {
    "name": "ipython",
    "version": 3
   },
   "file_extension": ".py",
   "mimetype": "text/x-python",
   "name": "python",
   "nbconvert_exporter": "python",
   "pygments_lexer": "ipython3",
   "version": "3.8.15"
  },
  "orig_nbformat": 4,
  "vscode": {
   "interpreter": {
    "hash": "4afa11a65da338f3b8d43814e48d0d156a2819e630ba4c0a65e63d83e3f721f8"
   }
  }
 },
 "nbformat": 4,
 "nbformat_minor": 2
}
