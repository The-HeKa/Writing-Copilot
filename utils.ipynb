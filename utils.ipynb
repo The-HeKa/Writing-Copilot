{
 "cells": [
  {
   "cell_type": "code",
   "execution_count": 2,
   "metadata": {},
   "outputs": [
    {
     "name": "stderr",
     "output_type": "stream",
     "text": [
      "2023-01-20 19:59:55.542154: I tensorflow/stream_executor/platform/default/dso_loader.cc:49] Successfully opened dynamic library libcudart.so.10.1\n",
      "/home/yuan/anaconda3/envs/wtcpt/lib/python3.8/site-packages/tensorflow/python/keras/layers/legacy_rnn/rnn_cell_impl.py:903: UserWarning: `tf.nn.rnn_cell.LSTMCell` is deprecated and will be removed in a future version. This class is equivalent as `tf.keras.layers.LSTMCell`, and will be replaced by that in Tensorflow 2.0.\n",
      "  warnings.warn(\"`tf.nn.rnn_cell.LSTMCell` is deprecated and will be \"\n",
      "/home/yuan/anaconda3/envs/wtcpt/lib/python3.8/site-packages/tensorflow/python/keras/engine/base_layer_v1.py:1727: UserWarning: `layer.add_variable` is deprecated and will be removed in a future version. Please use `layer.add_weight` method instead.\n",
      "  warnings.warn('`layer.add_variable` is deprecated and '\n",
      "2023-01-20 19:59:57.173345: I tensorflow/compiler/jit/xla_cpu_device.cc:41] Not creating XLA devices, tf_xla_enable_xla_devices not set\n",
      "2023-01-20 19:59:57.178288: I tensorflow/stream_executor/platform/default/dso_loader.cc:49] Successfully opened dynamic library libcuda.so.1\n",
      "2023-01-20 19:59:57.952918: E tensorflow/stream_executor/cuda/cuda_driver.cc:328] failed call to cuInit: CUDA_ERROR_NO_DEVICE: no CUDA-capable device is detected\n",
      "2023-01-20 19:59:57.953134: I tensorflow/stream_executor/cuda/cuda_diagnostics.cc:156] kernel driver does not appear to be running on this host (MSI): /proc/driver/nvidia/version does not exist\n",
      "2023-01-20 19:59:59.092842: I tensorflow/core/platform/cpu_feature_guard.cc:142] This TensorFlow binary is optimized with oneAPI Deep Neural Network Library (oneDNN) to use the following CPU instructions in performance-critical operations:  SSE4.1 SSE4.2 AVX AVX2 FMA\n",
      "To enable them in other operations, rebuild TensorFlow with the appropriate compiler flags.\n",
      "2023-01-20 19:59:59.098325: I tensorflow/compiler/jit/xla_gpu_device.cc:99] Not creating XLA devices, tf_xla_enable_xla_devices not set\n",
      "2023-01-20 19:59:59.132058: I tensorflow/compiler/mlir/mlir_graph_optimization_pass.cc:196] None of the MLIR optimization passes are enabled (registered 0 passes)\n",
      "2023-01-20 19:59:59.213493: I tensorflow/core/platform/profile_utils/cpu_utils.cc:112] CPU Frequency: 2688000000 Hz\n",
      "2023-01-20 20:00:27.257591: I tensorflow/compiler/jit/xla_gpu_device.cc:99] Not creating XLA devices, tf_xla_enable_xla_devices not set\n"
     ]
    },
    {
     "name": "stdout",
     "output_type": "stream",
     "text": [
      "(['傅达仁今运行安乐死，爆出自己20年前遭纬来体育台封杀，他不懂自己哪里得罪到电视台。', '傅达仁今运行安乐死，爆出自己20年前遭纬来体育台封杀，他不懂自己哪里得罪到电视台。'], ['0000100000100000000000000000010000000000', '0000000000000000000000000000010000000000'], [['傅达仁今MASK运行安乐死，却突然爆出自己20年前遭纬来体育台封杀，他不懂自己哪里得罪到电视台。', '傅达仁今将运行安乐死，却突然爆出自己20年前遭纬来体育台封杀，他不懂自己哪里得罪到电视台。'], ['傅达仁今将运行安乐死，MASK突然爆出自己20年前遭纬来体育台封杀，他不懂自己哪里得罪到电视台。', '傅达仁今将运行安乐死，却突然爆出自己20年前遭纬来体育台封杀，他不懂自己哪里得罪到电视台。'], ['傅达仁今将运行安乐死，却MASK爆出自己20年前遭纬来体育台封杀，他不懂自己哪里得罪到电视台。', '傅达仁今将运行安乐死，却突然爆出自己20年前遭纬来体育台封杀，他不懂自己哪里得罪到电视台。'], ['傅达仁今将运行安乐死，却突然爆出自己20年前遭纬来体育台封杀，他MASK懂自己哪里得罪到电视台。', '傅达仁今将运行安乐死，却突然爆出自己20年前遭纬来体育台封杀，他不懂自己哪里得罪到电视台。']])\n"
     ]
    }
   ],
   "source": [
    "from itertools import product\n",
    "from tqdm import tqdm\n",
    "import csv\n",
    "from data_generation import word\n",
    "import opencc\n",
    "import os\n"
   ]
  },
  {
   "cell_type": "code",
   "execution_count": 3,
   "metadata": {},
   "outputs": [],
   "source": [
    "sents_file = 'sents.csv'\n",
    "sents_ = []\n",
    "with open(sents_file,'r') as f:\n",
    "    sents_ = [i for i in csv.reader(f)][1:]\n",
    "\n",
    "sents = sents_[:2]"
   ]
  },
  {
   "cell_type": "code",
   "execution_count": 1,
   "metadata": {},
   "outputs": [
    {
     "data": {
      "text/plain": [
       "'test'"
      ]
     },
     "execution_count": 1,
     "metadata": {},
     "output_type": "execute_result"
    }
   ],
   "source": [
    "'test'[:10]"
   ]
  },
  {
   "cell_type": "code",
   "execution_count": 45,
   "metadata": {},
   "outputs": [
    {
     "name": "stdout",
     "output_type": "stream",
     "text": [
      "(['傅', '傅'], ['0', '0'], [])\n",
      "['傅', '傅'] ['0', '0'] []\n",
      "[] 0 [[['傅', '傅'], ['0', '0']]]\n"
     ]
    },
    {
     "ename": "IndexError",
     "evalue": "list index out of range",
     "output_type": "error",
     "traceback": [
      "\u001b[0;31m---------------------------------------------------------------------------\u001b[0m",
      "\u001b[0;31mIndexError\u001b[0m                                Traceback (most recent call last)",
      "Cell \u001b[0;32mIn [45], line 26\u001b[0m\n\u001b[1;32m     23\u001b[0m             mask_ \u001b[39m=\u001b[39m [[mask[i][\u001b[39m0\u001b[39m][r][:y] \u001b[39mfor\u001b[39;00m i \u001b[39min\u001b[39;00m \u001b[39mrange\u001b[39m(get_len(label))],[mask[i][\u001b[39m1\u001b[39m][r][:y] \u001b[39mfor\u001b[39;00m i \u001b[39min\u001b[39;00m \u001b[39mrange\u001b[39m(get_len(label))]]\n\u001b[1;32m     24\u001b[0m             \u001b[39mprint\u001b[39m(r,y,mask_)\n\u001b[0;32m---> 26\u001b[0m word_data([\u001b[39m'\u001b[39;49m\u001b[39m傅达仁今将运行安乐死，突然爆出自己20年前遭纬来体育台封杀，他不懂自己哪里得罪到电视台。\u001b[39;49m\u001b[39m'\u001b[39;49m], [\u001b[39m64\u001b[39;49m,\u001b[39m32\u001b[39;49m], [\u001b[39m0.5\u001b[39;49m,\u001b[39m0.8\u001b[39;49m], \u001b[39m'\u001b[39;49m\u001b[39mD\u001b[39;49m\u001b[39m'\u001b[39;49m)\n",
      "Cell \u001b[0;32mIn [45], line 23\u001b[0m, in \u001b[0;36mword_data\u001b[0;34m(sents, len, p, pos_tag)\u001b[0m\n\u001b[1;32m     21\u001b[0m \u001b[39mprint\u001b[39m(mask,\u001b[39m'\u001b[39m\u001b[39m0\u001b[39m\u001b[39m'\u001b[39m,label)\n\u001b[1;32m     22\u001b[0m \u001b[39mfor\u001b[39;00m y \u001b[39min\u001b[39;00m \u001b[39mlen\u001b[39m:\n\u001b[0;32m---> 23\u001b[0m     mask_ \u001b[39m=\u001b[39m [[mask[i][\u001b[39m0\u001b[39m][r][:y] \u001b[39mfor\u001b[39;00m i \u001b[39min\u001b[39;00m \u001b[39mrange\u001b[39m(get_len(label))],[mask[i][\u001b[39m1\u001b[39m][r][:y] \u001b[39mfor\u001b[39;00m i \u001b[39min\u001b[39;00m \u001b[39mrange\u001b[39m(get_len(label))]]\n\u001b[1;32m     24\u001b[0m     \u001b[39mprint\u001b[39m(r,y,mask_)\n",
      "Cell \u001b[0;32mIn [45], line 23\u001b[0m, in \u001b[0;36m<listcomp>\u001b[0;34m(.0)\u001b[0m\n\u001b[1;32m     21\u001b[0m \u001b[39mprint\u001b[39m(mask,\u001b[39m'\u001b[39m\u001b[39m0\u001b[39m\u001b[39m'\u001b[39m,label)\n\u001b[1;32m     22\u001b[0m \u001b[39mfor\u001b[39;00m y \u001b[39min\u001b[39;00m \u001b[39mlen\u001b[39m:\n\u001b[0;32m---> 23\u001b[0m     mask_ \u001b[39m=\u001b[39m [[mask[i][\u001b[39m0\u001b[39m][r][:y] \u001b[39mfor\u001b[39;00m i \u001b[39min\u001b[39;00m \u001b[39mrange\u001b[39m(get_len(label))],[mask[i][\u001b[39m1\u001b[39m][r][:y] \u001b[39mfor\u001b[39;00m i \u001b[39min\u001b[39;00m \u001b[39mrange\u001b[39m(get_len(label))]]\n\u001b[1;32m     24\u001b[0m     \u001b[39mprint\u001b[39m(r,y,mask_)\n",
      "\u001b[0;31mIndexError\u001b[0m: list index out of range"
     ]
    }
   ],
   "source": [
    "def get_len(a):\n",
    "    return(len(a))\n",
    "\n",
    "def word_data(sents:list, len:list, p:list, pos_tag:str):\n",
    "    if not os.path.isdir('word'):\n",
    "        os.mkdir('word')\n",
    "\n",
    "    sents_ = []\n",
    "    mask = []\n",
    "    label = []\n",
    "\n",
    "    for sent in sents:\n",
    "        sent = sent[:max(len)]\n",
    "        print(word(sent, pos_tag, p))\n",
    "        a, b, c = word(sent, pos_tag, p)\n",
    "        print(a,b,c)\n",
    "        label.append([a,b])\n",
    "        mask += c\n",
    "    \n",
    "    for r in range(get_len(p)):\n",
    "        print(mask,'0',label)\n",
    "        for y in len:\n",
    "            mask_ = [[mask[i][0][r][:y] for i in range(get_len(label))],[mask[i][1][r][:y] for i in range(get_len(label))]]\n",
    "            print(r,y,mask_)\n",
    "\n",
    "word_data(['傅达仁今将运行安乐死，突然爆出自己20年前遭纬来体育台封杀，他不懂自己哪里得罪到电视台。'], [64,32], [0.5,0.8], 'D')"
   ]
  },
  {
   "cell_type": "code",
   "execution_count": 11,
   "metadata": {},
   "outputs": [],
   "source": [
    "class label_token():\n",
    "    def __init__(self, sents, max, p, pos_tag):\n",
    "        \n",
    "        self.max_length = max\n",
    "        self.p = p\n",
    "        self.pos_tag = pos_tag\n",
    "\n",
    "        self.result = []\n",
    "        self.generate()\n",
    "\n",
    "    def label_padding(self, label):\n",
    "        while len(label) < self.max_length:\n",
    "            label+=('0')\n",
    "        return label\n",
    "\n",
    "    def generate(self):\n",
    "        \n",
    "        if not os.path.isdir('tokenLabel'):\n",
    "            os.mkdir('tokenLabel')\n",
    "\n",
    "        for sent in tqdm(sents):\n",
    "            \n",
    "            try:\n",
    "                if len(sent) > self.max_length:\n",
    "                    sent = sent[0:self.max_length-1]\n",
    "\n",
    "                s_text, s_label = word.label(sent,self.pos_tag,self.p)\n",
    "                \n",
    "                s_label = self.label_padding(s_label)\n",
    "\n",
    "                if '1' in s_label:\n",
    "                    self.result.append([s_text,s_label])\n",
    "                    \n",
    "            except:\n",
    "                continue\n",
    "        \n",
    "        with open('tokenLabel/tokenLabel_'+str(len(self.result))+'_'+self.pos_tag+'_'+str(self.max_length)+'_'+str(self.p)+'_'+'.csv', 'w', newline='') as f:\n",
    "\n",
    "            fieldnames = ['text']\n",
    "            for i in range(self.max_length):\n",
    "                fieldnames.append(str(i))\n",
    "\n",
    "            writer = csv.writer(f)\n",
    "            writer.writerow(fieldnames)\n",
    "\n",
    "            for i in self.result:\n",
    "                writer.writerow([i[0]]+list(i[1]))\n",
    "            "
   ]
  },
  {
   "cell_type": "code",
   "execution_count": 13,
   "metadata": {},
   "outputs": [],
   "source": [
    "class mask_token():\n",
    "    def __init__(self, sents, pos_tag):\n",
    "        \n",
    "        self.pos_tag = pos_tag\n",
    "\n",
    "        self.result = []\n",
    "        self.generate()\n",
    "\n",
    "    def generate(self):\n",
    "        \n",
    "        if not os.path.isdir('tokenMask'):\n",
    "            os.mkdir('tokenMask')\n",
    "\n",
    "        for sent in tqdm(sents):\n",
    "            \n",
    "            # try:\n",
    "                res = word.mask(sent,self.pos_tag)\n",
    "                for row in res:\n",
    "                    text = row[0]\n",
    "                    target = row[0].replace('MASK',row[1])\n",
    "                    self.result.append([text, target])\n",
    "                    \n",
    "            # except:\n",
    "            #     continue\n",
    "        \n",
    "        with open('tokenMask/tokenMask_'+str(len(self.result))+'_'+self.pos_tag+'.csv', 'w', newline='') as f:\n",
    "\n",
    "            fieldnames = ['text', 'target']\n",
    "\n",
    "            writer = csv.writer(f)\n",
    "            writer.writerow(fieldnames)\n",
    "\n",
    "            for i in self.result:\n",
    "                writer.writerow(i)\n",
    "            "
   ]
  },
  {
   "cell_type": "code",
   "execution_count": 16,
   "metadata": {},
   "outputs": [],
   "source": [
    "lengths = [96]\n",
    "ps = [0.8]\n",
    "tags = ['A','D','P','Nf','Cbb']"
   ]
  },
  {
   "cell_type": "code",
   "execution_count": 12,
   "metadata": {},
   "outputs": [
    {
     "name": "stdout",
     "output_type": "stream",
     "text": [
      "96 0.8 A\n"
     ]
    },
    {
     "name": "stderr",
     "output_type": "stream",
     "text": [
      "  0%|          | 214/200000 [00:15<3:41:09, 15.06it/s]"
     ]
    }
   ],
   "source": [
    "for length,p,tag in product(lengths,ps,tags):\n",
    "    print(length, p, tag)\n",
    "    label_token(sents, length, p, tag)"
   ]
  },
  {
   "cell_type": "code",
   "execution_count": 17,
   "metadata": {},
   "outputs": [
    {
     "name": "stdout",
     "output_type": "stream",
     "text": [
      "A\n"
     ]
    },
    {
     "name": "stderr",
     "output_type": "stream",
     "text": [
      "100%|██████████| 20/20 [00:01<00:00, 12.17it/s]\n"
     ]
    },
    {
     "name": "stdout",
     "output_type": "stream",
     "text": [
      "D\n"
     ]
    },
    {
     "name": "stderr",
     "output_type": "stream",
     "text": [
      "100%|██████████| 20/20 [00:01<00:00, 15.48it/s]\n"
     ]
    },
    {
     "name": "stdout",
     "output_type": "stream",
     "text": [
      "P\n"
     ]
    },
    {
     "name": "stderr",
     "output_type": "stream",
     "text": [
      "100%|██████████| 20/20 [00:01<00:00, 14.53it/s]\n"
     ]
    },
    {
     "name": "stdout",
     "output_type": "stream",
     "text": [
      "Nf\n"
     ]
    },
    {
     "name": "stderr",
     "output_type": "stream",
     "text": [
      "100%|██████████| 20/20 [00:01<00:00, 15.78it/s]\n"
     ]
    },
    {
     "name": "stdout",
     "output_type": "stream",
     "text": [
      "Cbb\n"
     ]
    },
    {
     "name": "stderr",
     "output_type": "stream",
     "text": [
      "100%|██████████| 20/20 [00:01<00:00, 15.09it/s]\n"
     ]
    }
   ],
   "source": [
    "for tag in tags:\n",
    "    print(tag)\n",
    "    mask_token(sents, tag)\n"
   ]
  },
  {
   "cell_type": "code",
   "execution_count": 6,
   "metadata": {},
   "outputs": [],
   "source": [
    "# lengths = [96]\n",
    "# ps = [0.5,0.2,0.8]\n",
    "# tags = ['A','D','P','Nf','Cbb']\n",
    "\n",
    "# for length,p,tag in product(lengths,ps,tags):\n",
    "#     print(length, p, tag)\n",
    "#     label_token(sents, length, p, tag)"
   ]
  }
 ],
 "metadata": {
  "kernelspec": {
   "display_name": "wtcpt",
   "language": "python",
   "name": "python3"
  },
  "language_info": {
   "codemirror_mode": {
    "name": "ipython",
    "version": 3
   },
   "file_extension": ".py",
   "mimetype": "text/x-python",
   "name": "python",
   "nbconvert_exporter": "python",
   "pygments_lexer": "ipython3",
   "version": "3.8.15"
  },
  "orig_nbformat": 4,
  "vscode": {
   "interpreter": {
    "hash": "4afa11a65da338f3b8d43814e48d0d156a2819e630ba4c0a65e63d83e3f721f8"
   }
  }
 },
 "nbformat": 4,
 "nbformat_minor": 2
}
