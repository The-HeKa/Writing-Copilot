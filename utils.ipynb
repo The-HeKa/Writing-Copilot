{
 "cells": [
  {
   "cell_type": "code",
   "execution_count": 1,
   "metadata": {},
   "outputs": [
    {
     "name": "stderr",
     "output_type": "stream",
     "text": [
      "2023-01-20 20:24:45.343872: I tensorflow/stream_executor/platform/default/dso_loader.cc:49] Successfully opened dynamic library libcudart.so.10.1\n",
      "/home/yuan/anaconda3/envs/wtcpt/lib/python3.8/site-packages/tensorflow/python/keras/layers/legacy_rnn/rnn_cell_impl.py:903: UserWarning: `tf.nn.rnn_cell.LSTMCell` is deprecated and will be removed in a future version. This class is equivalent as `tf.keras.layers.LSTMCell`, and will be replaced by that in Tensorflow 2.0.\n",
      "  warnings.warn(\"`tf.nn.rnn_cell.LSTMCell` is deprecated and will be \"\n",
      "/home/yuan/anaconda3/envs/wtcpt/lib/python3.8/site-packages/tensorflow/python/keras/engine/base_layer_v1.py:1727: UserWarning: `layer.add_variable` is deprecated and will be removed in a future version. Please use `layer.add_weight` method instead.\n",
      "  warnings.warn('`layer.add_variable` is deprecated and '\n",
      "2023-01-20 20:24:50.108801: I tensorflow/compiler/jit/xla_cpu_device.cc:41] Not creating XLA devices, tf_xla_enable_xla_devices not set\n",
      "2023-01-20 20:24:50.116672: I tensorflow/stream_executor/platform/default/dso_loader.cc:49] Successfully opened dynamic library libcuda.so.1\n",
      "2023-01-20 20:24:51.264032: E tensorflow/stream_executor/cuda/cuda_driver.cc:328] failed call to cuInit: CUDA_ERROR_NO_DEVICE: no CUDA-capable device is detected\n",
      "2023-01-20 20:24:51.264469: I tensorflow/stream_executor/cuda/cuda_diagnostics.cc:156] kernel driver does not appear to be running on this host (MSI): /proc/driver/nvidia/version does not exist\n",
      "2023-01-20 20:24:52.148656: I tensorflow/core/platform/cpu_feature_guard.cc:142] This TensorFlow binary is optimized with oneAPI Deep Neural Network Library (oneDNN) to use the following CPU instructions in performance-critical operations:  SSE4.1 SSE4.2 AVX AVX2 FMA\n",
      "To enable them in other operations, rebuild TensorFlow with the appropriate compiler flags.\n",
      "2023-01-20 20:24:52.152602: I tensorflow/compiler/jit/xla_gpu_device.cc:99] Not creating XLA devices, tf_xla_enable_xla_devices not set\n",
      "2023-01-20 20:24:52.177576: I tensorflow/compiler/mlir/mlir_graph_optimization_pass.cc:196] None of the MLIR optimization passes are enabled (registered 0 passes)\n",
      "2023-01-20 20:24:52.249905: I tensorflow/core/platform/profile_utils/cpu_utils.cc:112] CPU Frequency: 2688000000 Hz\n",
      "2023-01-20 20:25:19.479198: I tensorflow/compiler/jit/xla_gpu_device.cc:99] Not creating XLA devices, tf_xla_enable_xla_devices not set\n"
     ]
    },
    {
     "name": "stdout",
     "output_type": "stream",
     "text": [
      "(['傅达仁今运行安乐死，突然爆出自己20年前遭纬来体育台封杀，他懂自己哪里得罪到电视台。', '傅达仁今运行安乐死，突然爆出自己20年前遭纬来体育台封杀，他懂自己哪里得罪到电视台。'], ['00001000001010000000000000000010000000000', '00000000000010000000000000000000000000000'], [['傅达仁今MASK运行安乐死，却突然爆出自己20年前遭纬来体育台封杀，他不懂自己哪里得罪到电视台。', '傅达仁今将运行安乐死，却突然爆出自己20年前遭纬来体育台封杀，他不懂自己哪里得罪到电视台。'], ['傅达仁今将运行安乐死，MASK突然爆出自己20年前遭纬来体育台封杀，他不懂自己哪里得罪到电视台。', '傅达仁今将运行安乐死，却突然爆出自己20年前遭纬来体育台封杀，他不懂自己哪里得罪到电视台。'], ['傅达仁今将运行安乐死，却MASK爆出自己20年前遭纬来体育台封杀，他不懂自己哪里得罪到电视台。', '傅达仁今将运行安乐死，却突然爆出自己20年前遭纬来体育台封杀，他不懂自己哪里得罪到电视台。'], ['傅达仁今将运行安乐死，却突然爆出自己20年前遭纬来体育台封杀，他MASK懂自己哪里得罪到电视台。', '傅达仁今将运行安乐死，却突然爆出自己20年前遭纬来体育台封杀，他不懂自己哪里得罪到电视台。']])\n"
     ]
    }
   ],
   "source": [
    "from itertools import product\n",
    "from tqdm import tqdm\n",
    "import csv\n",
    "from data_generation import word\n",
    "import opencc\n",
    "import os\n"
   ]
  },
  {
   "cell_type": "code",
   "execution_count": 3,
   "metadata": {},
   "outputs": [],
   "source": [
    "sents_file = 'sents.csv'\n",
    "sents_ = []\n",
    "with open(sents_file,'r') as f:\n",
    "    sents_ = [i for i in csv.reader(f)][1:]\n",
    "\n",
    "sents = sents_[:2]"
   ]
  },
  {
   "cell_type": "code",
   "execution_count": 84,
   "metadata": {},
   "outputs": [
    {
     "name": "stdout",
     "output_type": "stream",
     "text": [
      "[['傅达仁今MASK运行安乐死，突然爆出自己20年前遭纬来体育台封杀，他不懂自己哪里得罪到电视台。', '傅达仁今将运行安乐死，突然爆出自己20年前遭纬来体育台封杀，他不懂自己哪里得罪到电视台。'], ['傅达仁今将运行安乐死，MASK爆出自己20年前遭纬来体育台封杀，他不懂自己哪里得罪到电视台。', '傅达仁今将运行安乐死，突然爆出自己20年前遭纬来体育台封杀，他不懂自己哪里得罪到电视台。'], ['傅达仁今将运行安乐死，突然爆出自己20年前遭纬来体育台封杀，他MASK懂自己哪里得罪到电视台。', '傅达仁今将运行安乐死，突然爆出自己20年前遭纬来体育台封杀，他不懂自己哪里得罪到电视台。']]\n"
     ]
    }
   ],
   "source": [
    "def get_len(a):\n",
    "    return(len(a))\n",
    "\n",
    "def word_data(sents:list, len:list, p:list, pos_tag:str):\n",
    "    file_name = 'word_'+str(get_len(sents))\n",
    "    if not os.path.isdir(file_name):\n",
    "        os.mkdir(file_name)\n",
    "\n",
    "    sents_ = []\n",
    "    mask = []\n",
    "    label = []\n",
    "\n",
    "    for sent in sents:\n",
    "        sent = [sent[:max(len)]]\n",
    "        a, b, c = word(sent, pos_tag, p)\n",
    "        print(c)\n",
    "        label.append([a,b])\n",
    "        mask += c\n",
    "    \n",
    "    # save dict\n",
    "    label_dict = {}\n",
    "    for r in range(get_len(p)):\n",
    "        for y in len:\n",
    "            label_dict['label_r_p'.replace('r',str(p[r])).replace('p',str(y))] = []\n",
    "\n",
    "    for i in range(get_len(sents)):\n",
    "        for r in range(get_len(p)):\n",
    "            for y in len:\n",
    "                label_dict['label_r_p'.replace('r',str(p[r])).replace('p',str(y))].append([label[i][0][r][:y],label[i][1][r][:y]])\n",
    "\n",
    "    for i in label_dict.keys():\n",
    "        with open(file_name+'/'+i+'_'+pos_tag+'.csv',mode='w') as f:\n",
    "            wt = csv.writer(f)\n",
    "            for r in label_dict[i]:\n",
    "                wt.writerow(r)\n",
    "    \n",
    "    # save mask\n",
    "    for k in range(get_len(mask)):\n",
    "        for i in len:\n",
    "            with open(file_name+'/'+'mask_'+str(i)+'.csv',mode='a') as f:\n",
    "                wt = csv.writer(f)\n",
    "                if 'MASK' in mask[k][0][:i]:\n",
    "                    wt.writerow([mask[k][0][:i],mask[k][1][:i]])\n",
    "\n",
    "word_data(['傅达仁今将运行安乐死，突然爆出自己20年前遭纬来体育台封杀，他不懂自己哪里得罪到电视台。'], [64,32], [0.5,0.8], 'D')"
   ]
  },
  {
   "cell_type": "code",
   "execution_count": 16,
   "metadata": {},
   "outputs": [],
   "source": [
    "lengths = [96]\n",
    "ps = [0.8]\n",
    "tags = ['A','D','P','Nf','Cbb']"
   ]
  }
 ],
 "metadata": {
  "kernelspec": {
   "display_name": "wtcpt",
   "language": "python",
   "name": "python3"
  },
  "language_info": {
   "codemirror_mode": {
    "name": "ipython",
    "version": 3
   },
   "file_extension": ".py",
   "mimetype": "text/x-python",
   "name": "python",
   "nbconvert_exporter": "python",
   "pygments_lexer": "ipython3",
   "version": "3.8.15"
  },
  "orig_nbformat": 4,
  "vscode": {
   "interpreter": {
    "hash": "4afa11a65da338f3b8d43814e48d0d156a2819e630ba4c0a65e63d83e3f721f8"
   }
  }
 },
 "nbformat": 4,
 "nbformat_minor": 2
}
