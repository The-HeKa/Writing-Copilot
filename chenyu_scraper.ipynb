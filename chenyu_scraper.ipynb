{
 "cells": [
  {
   "cell_type": "code",
   "execution_count": 70,
   "metadata": {},
   "outputs": [],
   "source": [
    "from autoscraper import AutoScraper\n",
    "from bs4 import BeautifulSoup\n",
    "import requests\n",
    "import os\n",
    "import csv\n",
    "import re\n",
    "from tqdm import tqdm\n",
    "\n",
    "scraper = AutoScraper()"
   ]
  },
  {
   "cell_type": "code",
   "execution_count": 71,
   "metadata": {},
   "outputs": [],
   "source": [
    "url = 'https://zaojv.com/wordcy.html'\n",
    "sample = ['https://zaojv.com/408482.html','https://zaojv.com/2482899.html','https://zaojv.com/3455789.html','https://zaojv.com/8261174.html','https://zaojv.com/5518062.html','https://zaojv.com/6811799.html','https://zaojv.com/7553286.html','https://zaojv.com/2313751.html','https://zaojv.com/6928417.html','https://zaojv.com/9600727.html','https://zaojv.com/760282.html','https://zaojv.com/7333424.html','https://zaojv.com/2162651.html','https://zaojv.com/3109724.html','https://zaojv.com/5901641.html','https://zaojv.com/4485110.html','https://zaojv.com/6350459.html','https://zaojv.com/1454802.html','https://zaojv.com/6470540.html','https://zaojv.com/524380.html','https://zaojv.com/1077958.html','https://zaojv.com/8774187.html','https://zaojv.com/6935464.html','https://zaojv.com/6935464.html','https://zaojv.com/7620984.html','https://zaojv.com/8679699.html','https://zaojv.com/2190387.html','https://zaojv.com/2607489.html','https://zaojv.com/9627690.html','https://zaojv.com/7511964.html','https://zaojv.com/6628322.html']\n",
    "urls = scraper.build(url, sample)\n",
    "\n",
    "for i in range(2,29):\n",
    "    a = scraper.build(url.replace('.html','')+'_'+str(i)+'.html', sample)\n",
    "    urls += a"
   ]
  },
  {
   "cell_type": "code",
   "execution_count": 72,
   "metadata": {},
   "outputs": [],
   "source": [
    "def get_chenyu(url):\n",
    "    html = requests.get(url).text\n",
    "    soup = BeautifulSoup(html)\n",
    "    chenyu = soup.h2.text.replace('造句', '')\n",
    "    html = html.split('<!--如果仅显示学生,并且该页有学生句子-->')[1].split('<!--student结束-->')[0]\n",
    "    soup = BeautifulSoup(html)\n",
    "\n",
    "    sents = []\n",
    "    for i in soup.find_all('div'):\n",
    "        sent = i.getText()\n",
    "        if len(sent.split('、')) < 3 and sent !=  '':\n",
    "            try:\n",
    "                sents.append(sent.split('、')[1])\n",
    "            except:\n",
    "                pass\n",
    "    sents = list(set(sents))\n",
    "    \n",
    "    return sents, chenyu\n",
    "\n",
    "# get_chenyu('https://zaojv.com/4776370.html')"
   ]
  },
  {
   "cell_type": "code",
   "execution_count": 73,
   "metadata": {},
   "outputs": [
    {
     "name": "stderr",
     "output_type": "stream",
     "text": [
      "100%|██████████| 4079/4079 [37:24<00:00,  1.82it/s]  \n"
     ]
    }
   ],
   "source": [
    "# utils\n",
    "file_name = 'chenyu.csv'\n",
    "\n",
    "for url in tqdm(urls):\n",
    "    chenyus, title = get_chenyu(url)\n",
    "    with open(file_name, mode='a') as f:\n",
    "        wt = csv.writer(f)\n",
    "        for r in chenyus:\n",
    "            if len(r) >8 and title in r:\n",
    "                r = re.sub(r\"[^\\u4e00-\\u9fa5，。.]\", \"\", r)\n",
    "                wt.writerow([title, r])\n",
    "\n",
    "# 安营扎寨,现这家世界级零售巨头也已首次进入我国大陆市场，【造句网 http://zaojv.com】并与已经在我国安营扎寨的美国的沃尔玛和法国的家乐福市场集团在庞大的中国市场展开竞争。\n",
    "# 按兵不动,\"山后伏兵齐起,接应捉人。（11）尽管如此，反托拉斯者应该按兵不动。（12）全市生产竞赛已经展开【zaojv.com\t造句\t网】，"
   ]
  }
 ],
 "metadata": {
  "kernelspec": {
   "display_name": "wtcpt",
   "language": "python",
   "name": "python3"
  },
  "language_info": {
   "codemirror_mode": {
    "name": "ipython",
    "version": 3
   },
   "file_extension": ".py",
   "mimetype": "text/x-python",
   "name": "python",
   "nbconvert_exporter": "python",
   "pygments_lexer": "ipython3",
   "version": "3.8.15"
  },
  "orig_nbformat": 4,
  "vscode": {
   "interpreter": {
    "hash": "4afa11a65da338f3b8d43814e48d0d156a2819e630ba4c0a65e63d83e3f721f8"
   }
  }
 },
 "nbformat": 4,
 "nbformat_minor": 2
}
