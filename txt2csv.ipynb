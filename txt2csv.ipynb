{
 "cells": [
  {
   "cell_type": "code",
   "execution_count": 26,
   "metadata": {},
   "outputs": [],
   "source": [
    "import os,json,csv, re\n",
    "import opencc\n",
    "import spacy\n",
    "from tqdm import tqdm\n",
    "\n",
    "nlp = spacy.load(\"zh_core_web_sm\")\n",
    "\n",
    "txt_file = 'article.txt'\n",
    "csv_file = 'article.csv'\n",
    "sent_file = 'sents.csv'\n"
   ]
  },
  {
   "cell_type": "code",
   "execution_count": 27,
   "metadata": {},
   "outputs": [],
   "source": [
    "# read .txt\n",
    "\n",
    "rows = []\n",
    "with open(txt_file,'r',encoding='utf-8') as f:\n",
    "    rows = f.readlines()\n",
    "    for i in range(len(rows)):\n",
    "        try:\n",
    "            rows[i] = json.loads(rows[i])\n",
    "        except:\n",
    "            pass"
   ]
  },
  {
   "cell_type": "code",
   "execution_count": 28,
   "metadata": {},
   "outputs": [],
   "source": [
    "# data cleaning\n",
    "\n",
    "for i in range(len(rows)):\n",
    "    try:\n",
    "        text = rows[i]['content']\n",
    "        text = re.sub(pattern=\"[&].*?[;]\",repl='',string=text)  \n",
    "        text = re.sub(pattern=\"[<u>].*?[</u>]\",repl='',string=text)\n",
    "        text = re.sub(pattern=\"[<].*?[>]\",repl='',string=text)  \n",
    "        text = re.sub(pattern=\"[https://].*?[/]\",repl='',string=text)  \n",
    "        text = text.replace('作文/Www.Z','')\n",
    "        text = text.replace('\\n','')\n",
    "\n",
    "        # text = converter.convert(text)\n",
    "        rows[i]['content'] = text\n",
    "    except:\n",
    "        pass"
   ]
  },
  {
   "cell_type": "code",
   "execution_count": 29,
   "metadata": {},
   "outputs": [],
   "source": [
    "# save to csv\n",
    "\n",
    "labels = list(rows[0].keys())\n",
    "\n",
    "with open(csv_file, 'w') as f:\n",
    "    writer = csv.DictWriter(f, fieldnames=labels)\n",
    "    writer.writeheader()\n",
    "    for row in rows:\n",
    "        try:\n",
    "            writer.writerow(row)\n",
    "        except:\n",
    "            pass\n"
   ]
  },
  {
   "cell_type": "code",
   "execution_count": 33,
   "metadata": {},
   "outputs": [
    {
     "name": "stderr",
     "output_type": "stream",
     "text": [
      "100%|██████████| 4000/4000 [02:02<00:00, 32.72it/s]"
     ]
    },
    {
     "name": "stdout",
     "output_type": "stream",
     "text": [
      "lines: 63803\n"
     ]
    },
    {
     "name": "stderr",
     "output_type": "stream",
     "text": [
      "\n"
     ]
    }
   ],
   "source": [
    "# save to cents.csv\n",
    "\n",
    "line_counts = 0\n",
    "\n",
    "with open(sent_file, 'w') as f:\n",
    "    writer = csv.DictWriter(f, fieldnames=['content'])\n",
    "    writer.writeheader()\n",
    "    for r in tqdm(range(0,4000)):\n",
    "        row = rows[r]\n",
    "        doc = nlp(row['content'])\n",
    "        sents = [sent for sent in doc.sents]\n",
    "        for i in sents:\n",
    "            try:\n",
    "                writer.writerow({'content':i})\n",
    "            except:\n",
    "                pass\n",
    "\n",
    "            line_counts += 1\n",
    "\n",
    "print('lines:',line_counts)\n"
   ]
  }
 ],
 "metadata": {
  "kernelspec": {
   "display_name": "wtcpt",
   "language": "python",
   "name": "python3"
  },
  "language_info": {
   "codemirror_mode": {
    "name": "ipython",
    "version": 3
   },
   "file_extension": ".py",
   "mimetype": "text/x-python",
   "name": "python",
   "nbconvert_exporter": "python",
   "pygments_lexer": "ipython3",
   "version": "3.8.15"
  },
  "orig_nbformat": 4,
  "vscode": {
   "interpreter": {
    "hash": "4afa11a65da338f3b8d43814e48d0d156a2819e630ba4c0a65e63d83e3f721f8"
   }
  }
 },
 "nbformat": 4,
 "nbformat_minor": 2
}
