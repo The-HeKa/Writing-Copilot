{
 "cells": [
  {
   "cell_type": "code",
   "execution_count": 1,
   "metadata": {},
   "outputs": [
    {
     "name": "stderr",
     "output_type": "stream",
     "text": [
      "/home/yuan/anaconda3/envs/wtcpt/lib/python3.8/site-packages/tensorflow/python/keras/layers/legacy_rnn/rnn_cell_impl.py:903: UserWarning: `tf.nn.rnn_cell.LSTMCell` is deprecated and will be removed in a future version. This class is equivalent as `tf.keras.layers.LSTMCell`, and will be replaced by that in Tensorflow 2.0.\n",
      "  warnings.warn(\"`tf.nn.rnn_cell.LSTMCell` is deprecated and will be \"\n",
      "/home/yuan/anaconda3/envs/wtcpt/lib/python3.8/site-packages/tensorflow/python/keras/engine/base_layer_v1.py:1727: UserWarning: `layer.add_variable` is deprecated and will be removed in a future version. Please use `layer.add_weight` method instead.\n",
      "  warnings.warn('`layer.add_variable` is deprecated and '\n",
      "2022-12-30 22:34:08.479847: I tensorflow/compiler/jit/xla_cpu_device.cc:41] Not creating XLA devices, tf_xla_enable_xla_devices not set\n",
      "2022-12-30 22:34:08.491408: I tensorflow/stream_executor/platform/default/dso_loader.cc:49] Successfully opened dynamic library libcuda.so.1\n",
      "2022-12-30 22:34:09.880489: E tensorflow/stream_executor/cuda/cuda_driver.cc:328] failed call to cuInit: CUDA_ERROR_NO_DEVICE: no CUDA-capable device is detected\n",
      "2022-12-30 22:34:09.880759: I tensorflow/stream_executor/cuda/cuda_diagnostics.cc:156] kernel driver does not appear to be running on this host (MSI): /proc/driver/nvidia/version does not exist\n",
      "2022-12-30 22:34:11.123548: I tensorflow/core/platform/cpu_feature_guard.cc:142] This TensorFlow binary is optimized with oneAPI Deep Neural Network Library (oneDNN) to use the following CPU instructions in performance-critical operations:  SSE4.1 SSE4.2 AVX AVX2 FMA\n",
      "To enable them in other operations, rebuild TensorFlow with the appropriate compiler flags.\n",
      "2022-12-30 22:34:11.130544: I tensorflow/compiler/jit/xla_gpu_device.cc:99] Not creating XLA devices, tf_xla_enable_xla_devices not set\n",
      "2022-12-30 22:34:11.178619: I tensorflow/compiler/mlir/mlir_graph_optimization_pass.cc:196] None of the MLIR optimization passes are enabled (registered 0 passes)\n",
      "2022-12-30 22:34:11.295430: I tensorflow/core/platform/profile_utils/cpu_utils.cc:112] CPU Frequency: 2687995000 Hz\n",
      "2022-12-30 22:34:38.209586: I tensorflow/compiler/jit/xla_gpu_device.cc:99] Not creating XLA devices, tf_xla_enable_xla_devices not set\n"
     ]
    }
   ],
   "source": [
    "from transformers import AutoTokenizer, AutoModelForMaskedLM\n",
    "import opencc\n",
    "from ckiptagger import data_utils, construct_dictionary, WS, POS, NER\n",
    "import random\n",
    "import os\n",
    "from line_profiler import LineProfiler\n",
    "\n",
    "\n",
    "converter = opencc.OpenCC('s2tw.json')\n",
    "converter_ = opencc.OpenCC('tw2sp.json')\n",
    "\n",
    "os.environ[\"CUDA_VISIBLE_DEVICES\"] = \"0\"\n",
    "# ws = WS(\"./data\", disable_cuda= False)\n",
    "# pos = POS(\"./data\",disable_cuda= False)\n",
    "\n",
    "ws = WS(\"./data\")\n",
    "pos = POS(\"./data\")\n",
    "\n",
    "# cn_version\n",
    "tokenizer = AutoTokenizer.from_pretrained(\"bert-base-chinese\")"
   ]
  },
  {
   "cell_type": "code",
   "execution_count": 46,
   "metadata": {},
   "outputs": [],
   "source": [
    "def generate_mask(sentence_,tag_pos):\n",
    "\n",
    "    # print(sentence)\n",
    "    sentence = converter.convert(sentence_[0])\n",
    "    sentence_list = [sentence]\n",
    "    word_sentence_list = ws(sentence_list)\n",
    "    pos_sentence_list = pos(word_sentence_list)\n",
    "\n",
    "    label_list = []\n",
    "    result_list = []\n",
    "\n",
    "    for i in range(len(word_sentence_list)):\n",
    "        for r in range(len(word_sentence_list[i])):\n",
    "            word_ = word_sentence_list[i][r]\n",
    "            pos_ = pos_sentence_list[i][r]\n",
    "\n",
    "            label_list.append([word_,pos_])\n",
    "\n",
    "    # get tag's next word's position\n",
    "    def get_key(val):\n",
    "        result = []\n",
    "        position = 0\n",
    "        for i in range(len(label_list)):\n",
    "            key, value = label_list[i]\n",
    "            position += len(key)\n",
    "            \n",
    "            if val == value:\n",
    "                start_pos = position - len(key)\n",
    "                end_pos = position-1\n",
    "\n",
    "                sent = converter_.convert(sentence[:start_pos]+'MASK'+sentence[end_pos+1:])\n",
    "                token = converter_.convert(sentence[start_pos:end_pos+1])\n",
    "                result.append([sent, token])\n",
    "                # print([sent, token])\n",
    "     \n",
    "        return result\n",
    "\n",
    "    return get_key(tag_pos)"
   ]
  },
  {
   "cell_type": "code",
   "execution_count": 47,
   "metadata": {},
   "outputs": [
    {
     "data": {
      "text/plain": [
       "[['傅达仁今MASK运行安乐死，却突然爆出自己20年前遭纬来体育台封杀，他不懂自己哪里得罪到电视台。', '将'],\n",
       " ['傅达仁今将运行安乐死，MASK突然爆出自己20年前遭纬来体育台封杀，他不懂自己哪里得罪到电视台。', '却'],\n",
       " ['傅达仁今将运行安乐死，却MASK爆出自己20年前遭纬来体育台封杀，他不懂自己哪里得罪到电视台。', '突然'],\n",
       " ['傅达仁今将运行安乐死，却突然爆出自己20年前遭纬来体育台封杀，他MASK懂自己哪里得罪到电视台。', '不']]"
      ]
     },
     "execution_count": 47,
     "metadata": {},
     "output_type": "execute_result"
    }
   ],
   "source": [
    "generate_mask(['傅達仁今將執行安樂死，卻突然爆出自己20年前遭緯來體育台封殺，他不懂自己哪裡得罪到電視台。'],'D')"
   ]
  }
 ],
 "metadata": {
  "kernelspec": {
   "display_name": "wtcpt",
   "language": "python",
   "name": "python3"
  },
  "language_info": {
   "codemirror_mode": {
    "name": "ipython",
    "version": 3
   },
   "file_extension": ".py",
   "mimetype": "text/x-python",
   "name": "python",
   "nbconvert_exporter": "python",
   "pygments_lexer": "ipython3",
   "version": "3.8.15"
  },
  "orig_nbformat": 4,
  "vscode": {
   "interpreter": {
    "hash": "4afa11a65da338f3b8d43814e48d0d156a2819e630ba4c0a65e63d83e3f721f8"
   }
  }
 },
 "nbformat": 4,
 "nbformat_minor": 2
}
