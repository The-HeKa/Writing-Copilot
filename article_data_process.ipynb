{
 "cells": [
  {
   "cell_type": "code",
   "execution_count": 21,
   "metadata": {},
   "outputs": [],
   "source": [
    "import os,json,csv\n",
    "\n",
    "txt_file = 'article.txt'\n",
    "csv_file = 'article.csv'"
   ]
  },
  {
   "cell_type": "code",
   "execution_count": 22,
   "metadata": {},
   "outputs": [],
   "source": [
    "# txt to csv\n",
    "\n",
    "rows = []\n",
    "with open(txt_file,'r',encoding='utf-8') as f:\n",
    "    rows = f.readlines()\n",
    "    for i in range(len(rows)):\n",
    "        try:\n",
    "            rows[i] = json.loads(rows[i])\n",
    "        except:\n",
    "            pass\n",
    "\n",
    "labels = list(rows[0].keys())\n",
    "\n",
    "with open(csv_file, 'w') as f:\n",
    "    writer = csv.DictWriter(f, fieldnames=labels)\n",
    "    writer.writeheader()\n",
    "    for row in rows:\n",
    "        try:\n",
    "            writer.writerow(row)\n",
    "        except:\n",
    "            pass\n"
   ]
  }
 ],
 "metadata": {
  "kernelspec": {
   "display_name": "sf_wtcpt",
   "language": "python",
   "name": "python3"
  },
  "language_info": {
   "codemirror_mode": {
    "name": "ipython",
    "version": 3
   },
   "file_extension": ".py",
   "mimetype": "text/x-python",
   "name": "python",
   "nbconvert_exporter": "python",
   "pygments_lexer": "ipython3",
   "version": "3.10.8"
  },
  "orig_nbformat": 4,
  "vscode": {
   "interpreter": {
    "hash": "2cedff552f2be37a54b7f2862e93fceab566f7820ddd4edf6e7a5767e1b7a864"
   }
  }
 },
 "nbformat": 4,
 "nbformat_minor": 2
}
