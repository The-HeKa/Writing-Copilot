{
 "cells": [
  {
   "cell_type": "code",
   "execution_count": 9,
   "metadata": {},
   "outputs": [],
   "source": [
    "from simpletransformers.classification import (\n",
    "    MultiLabelClassificationModel, MultiLabelClassificationArgs\n",
    ")\n",
    "import pandas as pd\n",
    "import logging\n",
    "import os\n",
    "import csv\n",
    "from sklearn.model_selection import train_test_split\n",
    "\n",
    "logging.basicConfig(level=logging.INFO)\n",
    "transformers_logger = logging.getLogger(\"transformers\")\n",
    "transformers_logger.setLevel(logging.WARNING)\n",
    "\n"
   ]
  },
  {
   "cell_type": "code",
   "execution_count": 14,
   "metadata": {},
   "outputs": [
    {
     "name": "stdout",
     "output_type": "stream",
     "text": [
      "                   text                                            labels\n",
      "13571  最近我读了一则新闻，岁少年涂振鹏  [0, 0, 0, 0, 0, 0, 0, 0, 0, 0, 0, 0, 0, 0, 0, 0]\n",
      "24382  文化日新月异，各种各样的知识浩如  [0, 0, 0, 0, 0, 0, 0, 0, 1, 0, 0, 0, 0, 0, 0, 0]\n",
      "1613   到了具体地品评文章作品，有的话和  [0, 0, 0, 0, 0, 0, 0, 0, 0, 0, 0, 0, 0, 0, 0, 0]\n",
      "38180  鸟们有时在天空有时停在树枝上婉转  [0, 0, 0, 0, 0, 0, 0, 1, 0, 0, 0, 0, 0, 0, 0, 0]\n",
      "35766  别说我一毛不拔，今天花上一毛钱，  [0, 0, 0, 0, 0, 0, 0, 0, 1, 0, 0, 0, 0, 0, 0, 0]\n",
      "...                 ...                                               ...\n",
      "25666  做事要不空运控制自己，适可而止才  [0, 0, 0, 0, 0, 0, 0, 0, 0, 0, 0, 0, 0, 0, 0, 0]\n",
      "10700  张唐就是因为最后的两位皇帝穷奢极  [0, 0, 0, 0, 0, 0, 0, 0, 0, 0, 0, 0, 0, 0, 0, 0]\n",
      "21161  蒙住自己的眼睛，并不等于世界蒙住  [0, 0, 0, 0, 0, 0, 0, 0, 0, 0, 0, 0, 0, 0, 1, 0]\n",
      "13684  但如今双方对垒已得不发不是你死就  [0, 0, 0, 0, 0, 0, 0, 0, 1, 0, 0, 0, 0, 0, 0, 0]\n",
      "34363     在李太太面前，李先生一向。  [0, 0, 0, 0, 0, 0, 0, 0, 0, 0, 0, 0, 1, 0, 0, 0]\n",
      "\n",
      "[8165 rows x 2 columns]\n"
     ]
    }
   ],
   "source": [
    "folder_name = 'chenyu_51657'\n",
    "\n",
    "class data:\n",
    "    def __init__(self, file_name) -> None:\n",
    "\n",
    "        self.file_name = file_name.replace('.csv','')\n",
    "        self.file_path = folder_name+'/'+self.file_name+'.csv'\n",
    "        self.type = self.file_name.split('_')[0]\n",
    "\n",
    "        if self.type == 'label':\n",
    "\n",
    "            self.p = float(self.file_name.split('_')[1])\n",
    "            self.len = int(self.file_name.split('_')[2])\n",
    "\n",
    "            with open(self.file_path, mode = 'r') as f:\n",
    "                self.data = pd.DataFrame([[i[0],list(i[1])] for i in csv.reader(f)])\n",
    "                self.data.columns = ['text', 'labels']\n",
    "            \n",
    "        elif self.type == 'mask':\n",
    "\n",
    "            self.p = 1.0\n",
    "            self.len = int(self.file_name.split('_')[1])\n",
    "\n",
    "            with open(self.file_path, mode = 'r') as f:\n",
    "                self.data = pd.DataFrame([['replace MASK', i[0], i[1]] for i in csv.reader(f)])\n",
    "                self.data.columns = [\"prefix\", \"input_text\", \"target_text\"]\n",
    "            \n",
    "        self.train, self.test = train_test_split(self.data, test_size=0.2, random_state=96)\n",
    "        del self.data\n",
    "\n",
    "label_data = data('label_0.2_16.csv')\n",
    "print(label_data.test)"
   ]
  },
  {
   "cell_type": "code",
   "execution_count": null,
   "metadata": {},
   "outputs": [],
   "source": [
    "# Optional model configuration\n",
    "model_args = MultiLabelClassificationArgs(num_train_epochs=1)\n",
    "\n",
    "# Create a MultiLabelClassificationModel\n",
    "model = MultiLabelClassificationModel(\n",
    "    \"bert\",\n",
    "    \"bert-base-chinese\",\n",
    "    num_labels=label_data.len,\n",
    "    args=model_args,\n",
    ")\n",
    "\n",
    "# Train the model\n",
    "model.train_model(label_data.train)\n",
    "\n",
    "# Evaluate the model\n",
    "result, model_outputs, wrong_predictions = model.eval_model(\n",
    "    label_data.test\n",
    ")\n",
    "\n"
   ]
  }
 ],
 "metadata": {
  "kernelspec": {
   "display_name": "wtcpt",
   "language": "python",
   "name": "python3"
  },
  "language_info": {
   "codemirror_mode": {
    "name": "ipython",
    "version": 3
   },
   "file_extension": ".py",
   "mimetype": "text/x-python",
   "name": "python",
   "nbconvert_exporter": "python",
   "pygments_lexer": "ipython3",
   "version": "3.8.15"
  },
  "orig_nbformat": 4,
  "vscode": {
   "interpreter": {
    "hash": "4afa11a65da338f3b8d43814e48d0d156a2819e630ba4c0a65e63d83e3f721f8"
   }
  }
 },
 "nbformat": 4,
 "nbformat_minor": 2
}
